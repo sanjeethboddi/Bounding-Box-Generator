{
 "cells": [
  {
   "cell_type": "markdown",
   "metadata": {
    "colab_type": "text",
    "id": "RrTbzAVm0XtO"
   },
   "source": [
    "# <u> Bounding Box Regressor</u>"
   ]
  },
  {
   "cell_type": "markdown",
   "metadata": {
    "colab_type": "text",
    "id": "5YMpRidK0OoI"
   },
   "source": [
    "## [1] Get details of the instance."
   ]
  },
  {
   "cell_type": "code",
   "execution_count": null,
   "metadata": {
    "colab": {
     "base_uri": "https://localhost:8080/",
     "height": 104
    },
    "colab_type": "code",
    "id": "eoVwIRMyzdXr",
    "outputId": "39cbcdde-fa21-4208-fdf7-2f35f8425785"
   },
   "outputs": [],
   "source": [
    "# memory footprint support libraries/code\n",
    "#!ln -sf /opt/bin/nvidia-smi /usr/bin/nvidia-smi\n",
    "#!pip install gputil\n",
    "#!pip install psutil\n",
    "#!pip install humanize\n",
    "\n",
    "import psutil\n",
    "import humanize\n",
    "import os\n",
    "import GPUtil as GPU\n",
    "GPUs = GPU.getGPUs()\n",
    "# XXX: only one GPU on Colab and isn’t guaranteed\n",
    "gpu = GPUs[0]\n",
    "def printm():\n",
    " process = psutil.Process(os.getpid())\n",
    " print(\"Gen RAM Free: \" + humanize.naturalsize( psutil.virtual_memory().available ), \" | Proc size: \" + humanize.naturalsize( process.memory_info().rss))\n",
    " print(\"GPU RAM Free: {0:.0f}MB | Used: {1:.0f}MB | Util {2:3.0f}% | Total {3:.0f}MB\".format(gpu.memoryFree, gpu.memoryUsed, gpu.memoryUtil*100, gpu.memoryTotal))\n",
    "printm()"
   ]
  },
  {
   "cell_type": "markdown",
   "metadata": {
    "colab_type": "text",
    "id": "Lj__-FB00n4k"
   },
   "source": [
    "* If you don't get enough RAM (or) get an error, then reset the runtime."
   ]
  },
  {
   "cell_type": "code",
   "execution_count": null,
   "metadata": {
    "colab": {
     "base_uri": "https://localhost:8080/",
     "height": 35
    },
    "colab_type": "code",
    "id": "zLK2avtv1BkX",
    "outputId": "f8ede82c-0d55-4358-8cc3-fa24d5349ff6"
   },
   "outputs": [],
   "source": [
    "# Link the Google drive to use the dataset\n",
    "#from google.colab import drive\n",
    "#drive.mount('/content/drive')"
   ]
  },
  {
   "cell_type": "markdown",
   "metadata": {
    "colab_type": "text",
    "id": "6cdHfYxX1beq"
   },
   "source": [
    "<u><b>Note:</b></u>\n",
    "\n",
    "* If you try to run this on your system or any other place like google colaboratory, then please specify proper paths."
   ]
  },
  {
   "cell_type": "markdown",
   "metadata": {
    "colab_type": "text",
    "id": "KIONiHo42m3I"
   },
   "source": [
    "## [2] Data preprocessing"
   ]
  },
  {
   "cell_type": "code",
   "execution_count": 311,
   "metadata": {
    "colab": {
     "base_uri": "https://localhost:8080/",
     "height": 35
    },
    "colab_type": "code",
    "id": "PJ4xifbV450z",
    "outputId": "045c5868-1376-4403-fe87-771b0804b628"
   },
   "outputs": [],
   "source": [
    "# Importing necessary modules\n",
    "import numpy as np\n",
    "import pandas as pd\n",
    "import seaborn as sns\n",
    "import matplotlib.pyplot as plt\n",
    "import matplotlib.image as mpimg\n",
    "import keras\n",
    "from keras.models import Sequential, Model\n",
    "from keras.layers import Input,Dense,  BatchNormalization, Dropout, Flatten\n",
    "from keras.layers.convolutional import MaxPooling2D , Conv2D\n",
    "from keras import losses\n",
    "from matplotlib.patches import Rectangle\n",
    "from keras.callbacks import EarlyStopping\n",
    "import os\n",
    "import random\n",
    "from PIL import Image\n",
    "import keras.backend as K\n",
    "from tqdm import tqdm\n",
    "import pickle\n"
   ]
  },
  {
   "cell_type": "code",
   "execution_count": 312,
   "metadata": {
    "colab": {
     "base_uri": "https://localhost:8080/",
     "height": 35
    },
    "colab_type": "code",
    "id": "kOHlvXBx4YcK",
    "outputId": "2080b9ed-b17e-49bf-c142-8f486fb5b6f0"
   },
   "outputs": [
    {
     "name": "stdout",
     "output_type": "stream",
     "text": [
      "<class 'tensorflow.python.framework.ops.name_scope'>\n"
     ]
    }
   ],
   "source": [
    "## Backend Framework Used\n",
    "print(K.name_scope)"
   ]
  },
  {
   "cell_type": "code",
   "execution_count": 313,
   "metadata": {
    "colab": {
     "base_uri": "https://localhost:8080/",
     "height": 72
    },
    "colab_type": "code",
    "id": "uflPkUnW4Wjd",
    "outputId": "f2f710fa-8a94-48dc-efa0-46c3f937d03d"
   },
   "outputs": [],
   "source": [
    "current_path = !pwd\n",
    "# Set the train_dir path properly\n",
    "train_dir = os.path.join('data','train')\n",
    "train_img_dir = os.path.join(train_dir,'images')\n",
    "train_csv = os.path.join(train_dir,'training.csv')\n",
    "train = pd.read_csv(train_csv)\n",
    "\n",
    "# set size as per your compute power\n",
    "size = 10000\n",
    "train = train.iloc[random.sample(range(train.shape[0]),size)].copy()\n",
    "\n",
    "\n",
    "tr_size = int(train.shape[0]*0.6)\n",
    "cv_size = int(train.shape[0]*0.2)\n",
    "te_size = int(train.shape[0]*0.2)\n",
    "\n",
    "tr_indices = range(tr_size)\n",
    "cv_indices = range(tr_size,tr_size+cv_size)\n",
    "te_indices = range(tr_size+cv_size,tr_size+cv_size+te_size)\n",
    "\n",
    "\n",
    "test = train.iloc[te_indices].copy()\n",
    "cv = train.iloc[cv_indices].copy()\n",
    "train = train.iloc[tr_indices].copy()\n",
    "\n",
    "cv_dir = os.path.join('data','train')\n",
    "cv_img_dir = os.path.join(cv_dir,'images')\n",
    "\n",
    "test_dir = os.path.join('data','train')\n",
    "test_img_dir = os.path.join(test_dir,'images')"
   ]
  },
  {
   "cell_type": "code",
   "execution_count": 314,
   "metadata": {
    "colab": {
     "base_uri": "https://localhost:8080/",
     "height": 35
    },
    "colab_type": "code",
    "id": "LGw7-TH_7rL2",
    "outputId": "7ced407a-ecdb-4215-e3b6-0ba85db43a1d"
   },
   "outputs": [
    {
     "name": "stdout",
     "output_type": "stream",
     "text": [
      "(6000, 5)\n",
      "(2000, 5)\n",
      "(2000, 5)\n"
     ]
    }
   ],
   "source": [
    "print(train.shape)\n",
    "print(cv.shape)\n",
    "print(test.shape)"
   ]
  },
  {
   "cell_type": "code",
   "execution_count": 315,
   "metadata": {
    "colab": {
     "base_uri": "https://localhost:8080/",
     "height": 52
    },
    "colab_type": "code",
    "id": "EHTe2G-V5QCO",
    "outputId": "2a9f05f8-4d9b-494d-f607-fe306860081a"
   },
   "outputs": [
    {
     "data": {
      "image/png": "[encoded data removed]",
      "text/plain": [
       "<Figure size 432x288 with 1 Axes>"
      ]
     },
     "metadata": {},
     "output_type": "display_data"
    },
    {
     "name": "stdout",
     "output_type": "stream",
     "text": [
      "The shape of image is:(96, 128)\n",
      "The maximum and minimum value of each cell in an image is 248.37399999999997, 10.31\n"
     ]
    }
   ],
   "source": [
    "#getting random image from dataset and converting it to gray scale\n",
    "def rgb2gray(rgb):\n",
    "    return np.dot(rgb[...,:3], [0.299, 0.587, 0.114])\n",
    "\n",
    "# Resizing Image because it will be hard to compute covariance matrix later\n",
    "thumbnail_shape = (128,128)\n",
    "rows = train.shape[0]\n",
    "temp = train.iloc[random.randint(0,rows-1)] \n",
    "img = Image.open(os.path.join(train_img_dir,temp['image_name']))\n",
    "img.thumbnail(thumbnail_shape, Image.ANTIALIAS)# resizes image in-place\n",
    "img =  rgb2gray(np.array(img))\n",
    "plt.imshow(img,cmap='gray')\n",
    "plt.show()\n",
    "img = np.array(img)\n",
    "img_shape  = img.shape\n",
    "print(\"The shape of image is:\"+str(img_shape))\n",
    "print(\"The maximum and minimum value of each cell in an image is \"+str(img.max())+\", \"+str(img.min()))"
   ]
  },
  {
   "cell_type": "markdown",
   "metadata": {
    "colab_type": "text",
    "id": "ww512I8y9pxm"
   },
   "source": [
    "* *Images are in channel-last format.*\n",
    "* *Images are already normalized.*"
   ]
  },
  {
   "cell_type": "code",
   "execution_count": 316,
   "metadata": {},
   "outputs": [],
   "source": [
    "### Central Limit Theorem to find the mean and variance of the population images\n",
    "number_of_samples = 60\n",
    "sample_size = 50\n",
    "means = list()\n",
    "for i in range(number_of_samples):\n",
    "    random.seed(i)\n",
    "    sample = random.sample(range(0,tr_size-1),sample_size)\n",
    "    imgs = list()\n",
    "    for _ in sample:\n",
    "        img_name = train.image_name.iloc[_]\n",
    "        img = Image.open(os.path.join(train_img_dir,img_name))\n",
    "        img.thumbnail(thumbnail_shape, Image.ANTIALIAS)\n",
    "        img =  rgb2gray(np.array(img))\n",
    "        imgs.append(img)  \n",
    "    imgs=np.array(imgs)\n",
    "    means.append(np.mean(imgs,axis = 0))\n",
    "means = np.array(means)\n",
    "\n",
    "# Population mean and variance \n",
    "mean = np.mean(means,axis=0)\n",
    "variance = np.var(means, axis = 0) * sample_size\n",
    "\n",
    "del means #deleting sample means array\n",
    "del imgs # deleting sample images array"
   ]
  },
  {
   "cell_type": "code",
   "execution_count": 317,
   "metadata": {
    "colab": {
     "base_uri": "https://localhost:8080/",
     "height": 35
    },
    "colab_type": "code",
    "id": "Zs9pRXPEOzWo",
    "outputId": "597c87aa-bf52-43ca-a5fa-e1d4b137444c"
   },
   "outputs": [
    {
     "name": "stderr",
     "output_type": "stream",
     "text": [
      "100%|██████████| 1000/1000 [00:30<00:00, 33.09it/s]\n"
     ]
    }
   ],
   "source": [
    "# Getting sample images to compute zca matrix\n",
    "sample_imgs = list()\n",
    "random.seed(1234)\n",
    "sample_size = 1000 #Change this as per your convinience\n",
    "sample = random.sample(range(0,tr_size-1),sample_size)\n",
    "\n",
    "for i in tqdm(sample):\n",
    "    img_name = train.image_name.iloc[i]\n",
    "    img = Image.open(os.path.join(train_img_dir,img_name))\n",
    "    img.thumbnail(thumbnail_shape, Image.ANTIALIAS)\n",
    "    img =  rgb2gray(np.array(img))\n",
    "    sample_imgs.append(img)\n",
    "sample_imgs = np.array(sample_imgs)"
   ]
  },
  {
   "cell_type": "code",
   "execution_count": 318,
   "metadata": {},
   "outputs": [],
   "source": [
    "# Normalising sample data\n",
    "sample_imgs = sample_imgs - mean\n",
    "sample_imgs = sample_imgs/variance"
   ]
  },
  {
   "cell_type": "code",
   "execution_count": 319,
   "metadata": {},
   "outputs": [
    {
     "data": {
      "text/plain": [
       "(1000, 96, 128)"
      ]
     },
     "execution_count": 319,
     "metadata": {},
     "output_type": "execute_result"
    }
   ],
   "source": [
    "sample_imgs.shape"
   ]
  },
  {
   "cell_type": "code",
   "execution_count": 320,
   "metadata": {},
   "outputs": [
    {
     "name": "stdout",
     "output_type": "stream",
     "text": [
      "(1000, 12288)\n"
     ]
    }
   ],
   "source": [
    "# Reshaping the image data to perform covariance\n",
    "\n",
    "from functools import reduce\n",
    "pres_shape = sample_imgs.shape\n",
    "dim1 = sample_imgs.shape[0]\n",
    "dim2 = int(reduce(lambda x,y: x*y, sample_imgs.shape) / dim1)\n",
    "sample_imgs = sample_imgs.reshape(dim1,dim2)\n",
    "print (sample_imgs.shape)"
   ]
  },
  {
   "cell_type": "code",
   "execution_count": 321,
   "metadata": {},
   "outputs": [],
   "source": [
    "def center(X):\n",
    "    newX = X - mean\n",
    "    return newX\n",
    "\n",
    "def decorrelate(X):\n",
    "    X = center(X)\n",
    "    cov = np.cov(X, rowvar=False)\n",
    "    eigVals, eigVecs = np.linalg.eig(cov)\n",
    "    decorrelated = X.dot(eigVecs)\n",
    "    return decorrelated\n",
    "\n",
    "def zca_whitening_matrix(X):\n",
    "    sigma = np.cov(X, rowvar=False) \n",
    "    U,S,V = np.linalg.svd(sigma)\n",
    "    epsilon = 1e-5\n",
    "    ZCAMatrix = U.dot(np.diag(1.0/np.sqrt(S + epsilon))).dot(U.T)\n",
    "    return ZCAMatrix"
   ]
  },
  {
   "cell_type": "code",
   "execution_count": null,
   "metadata": {},
   "outputs": [],
   "source": [
    "sample_imgs = np.nan_to_num(sample_imgs)\n",
    "zca_mat = zca_whitening_matrix(sample_imgs)"
   ]
  },
  {
   "cell_type": "code",
   "execution_count": null,
   "metadata": {},
   "outputs": [],
   "source": [
    "mod_samp_imgs = sample_imgs.dot(zca_mat)\n",
    "\n",
    "mod_samp_imgs = mod_samp_imgs.reshape(pres_shape)\n",
    "sample_imgs = sample_imgs.reshape(pres_shape)\n",
    "\n",
    "mod_samp_imgs = (mod_samp_imgs - mod_samp_imgs.min()) / (mod_samp_imgs.max() - mod_samp_imgs.min())"
   ]
  },
  {
   "cell_type": "code",
   "execution_count": null,
   "metadata": {},
   "outputs": [],
   "source": [
    "# original image\n",
    "plt.imshow(sample_imgs[0],cmap=\"gray\")\n",
    "plt.show()\n",
    "\n",
    "#Whitened image\n",
    "plt.imshow(mod_samp_imgs[0],cmap=\"gray\")\n",
    "plt.show()"
   ]
  },
  {
   "cell_type": "code",
   "execution_count": null,
   "metadata": {},
   "outputs": [],
   "source": [
    "mean = mean[:,:,np.newaxis]\n",
    "variance = variance[:,:,np.newaxis]"
   ]
  },
  {
   "cell_type": "markdown",
   "metadata": {
    "colab_type": "text",
    "id": "WLDj4FgW995R"
   },
   "source": [
    "## [3] Defining CNN architecture."
   ]
  },
  {
   "cell_type": "code",
   "execution_count": null,
   "metadata": {
    "colab": {
     "base_uri": "https://localhost:8080/",
     "height": 852
    },
    "colab_type": "code",
    "id": "dKgld4OPPr30",
    "outputId": "bf52a571-e8e8-419b-8af8-041206e87d18"
   },
   "outputs": [],
   "source": [
    "learning_rate = 0.01\n",
    "input_shape = (48, 64,1)\n",
    "\n",
    "model = Sequential()\n",
    "model.add(Conv2D(32, (3, 3), activation='relu',input_shape = input_shape))\n",
    "model.add(MaxPooling2D(pool_size=(1, 1),strides=(2,2)))\n",
    "model.add(Conv2D(64, (5, 5), activation='relu',input_shape = input_shape))\n",
    "model.add(MaxPooling2D(pool_size=(2, 2),strides=(2,2)))\n",
    "model.add(Conv2D(128, (7, 7), activation='relu'))\n",
    "model.add(MaxPooling2D(pool_size=(2, 2),strides=(2,2)))\n",
    "model.add(Dropout(0.25))\n",
    "model.add(BatchNormalization())\n",
    "model.add(Flatten())\n",
    "model.add(Dense(16, activation='relu'))\n",
    "model.add(Dense(32, activation='relu'))\n",
    "model.add(Dense(64, activation='relu'))\n",
    "model.add(Dense(output_dim = 4, activation='relu',name = \"output-1\"))\n",
    "\n",
    "model.summary()\n"
   ]
  },
  {
   "cell_type": "code",
   "execution_count": null,
   "metadata": {},
   "outputs": [],
   "source": [
    "def batch_training(train,cv,callback,epochs=3,sample_size = 100, step_save=1,batch_size=32,optimizer='Adam',folder_name=\"model\"):\n",
    "    model.compile(optimizer='Adam', loss=losses.mean_absolute_error)\n",
    "    !mkdir models\n",
    "    !mkdir models/$folder_name\n",
    "    \n",
    "    \n",
    "    #required\n",
    "    x = list()\n",
    "    vy= list()\n",
    "    ty = list()\n",
    "    fig,ax = plt.subplots(1,1)\n",
    "    for _ in range(epochs):\n",
    "        # Get random subset of data for both train and cv  for each epoch\n",
    "        random.seed(i)\n",
    "        sample = random.sample(range(0,tr_size-1),sample_size)\n",
    "        imgs_tr = list()\n",
    "        y_tr = list()\n",
    "        for k in sample:\n",
    "            img_name = train.image_name.iloc[i]\n",
    "            img = Image.open(os.path.join(train_img_dir,img_name))\n",
    "            img.thumbnail(thumbnail_shape, Image.ANTIALIAS)\n",
    "            img =  rgb2gray(np.array(img))\n",
    "            imgs_tr.append(img)\n",
    "            y_tr.append(np.array([train.x1.iloc[k],train.x2.iloc[k],train.y1.iloc[k],train.y2.iloc[k]]))\n",
    "        imgs_tr=np.array(imgs_tr)\n",
    "        imgs_tr = imgs_tr[:,:,:,np.newaxis]\n",
    "        y_tr = np.array(y_tr)\n",
    "        \n",
    "        sample = random.sample(range(0,cv_size-1),sample_size)\n",
    "        imgs_cv = list()\n",
    "        y_cv = list()\n",
    "        for k in sample:\n",
    "            img_name = train.image_name.iloc[i]\n",
    "            img = Image.open(os.path.join(train_img_dir,img_name))\n",
    "            img.thumbnail(thumbnail_shape, Image.ANTIALIAS)\n",
    "            img =  rgb2gray(np.array(img))\n",
    "            imgs_cv.append(img)  \n",
    "            y_cv.append(np.array([train.x1.iloc[k],train.x2.iloc[k],train.y1.iloc[k],train.y2.iloc[k]]))\n",
    "        imgs_cv=np.array(imgs_cv)\n",
    "        imgs_cv = imgs_cv[:,:,:,np.newaxis]\n",
    "        y_cv = np.array(y_cv)\n",
    "        \n",
    "        \n",
    "        ### Preprocess them\n",
    "        # Normalising the train and cv data and multipling with zca matrix\n",
    "        imgs_tr = imgs_tr - mean\n",
    "        imgs_tr = imgs_tr / variance\n",
    "        \n",
    "        pres_shape = imgs_tr.shape\n",
    "        dim1 = imgs_tr.shape[0]\n",
    "        dim2 = int(reduce(lambda x,y: x*y, imgs_tr.shape) / dim1)\n",
    "        imgs_tr = imgs_tr.reshape(dim1,dim2)\n",
    "        imgs_tr = imgs_tr.dot(zca_mat)\n",
    "        imgs_tr = imgs_tr.reshape(pres_shape)\n",
    "        imgs_tr = (imgs_tr - imgs_tr.min()) / (imgs_tr.max() - imgs_tr.min())\n",
    "        \n",
    "        imgs_cv = imgs_cv - mean\n",
    "        imgs_cv = imgs_cv / variance\n",
    "        pres_shape = imgs_cv.shape\n",
    "        dim1 = imgs_cv.shape[0]\n",
    "        dim2 = int(reduce(lambda x,y: x*y, imgs_cv.shape) / dim1)\n",
    "        imgs_cv = imgs_cv.reshape(dim1,dim2)\n",
    "        imgs_cv = imgs_cv.dot(zca_mat)\n",
    "        imgs_cv = imgs_cv.reshape(pres_shape)\n",
    "        imgs_cv = (imgs_cv - imgs_cv.min()) / (imgs_cv.max() - imgs_cv.min())\n",
    "        \n",
    "        \n",
    "        ## Epoch starts\n",
    "        print(\"*\"*10+\"EPOCH_\"+str(_+1)+\"*\"*10)\n",
    "        history = model.fit(imgs_tr,y_tr,\n",
    "              epochs=1, batch_size=batch_size,validation_data = (imgs_cv,y_cv),\n",
    "              callbacks = callback,verbose = 0)\n",
    "        \n",
    "        ax.set_xlabel('epoch') ; ax.set_ylabel('Mean Absolute Loss')\n",
    "        # list of epoch numbers\n",
    "        print(\"Train Loss:\"+str(history.history['loss'][0]))\n",
    "        print(\"Validation Loss:\"+str(history.history['val_loss'][0]))\n",
    "        x.append(_+1)\n",
    "        vy.extend( history.history['val_loss'])\n",
    "        ty.extend( history.history['loss'])\n",
    "        #plt_dynamic(x, vy, ty, ax,fig)\n",
    "        ax.plot(x, vy, 'b', label=\"Validation Loss\")\n",
    "        ax.plot(x, ty, 'r', label=\"Train Loss\")\n",
    "        plt.grid()\n",
    "        fig.canvas.draw()\n",
    "        \n",
    "        \n",
    "        if _ % step_save==0:\n",
    "            model.save(\"models/\"+folder_name+\"/\"+str(_)+\".h5\")\n",
    "            model.save_weights(\"models/\"+folder_name+\"/\"+str(_)+\".w5\")\n",
    "    pass"
   ]
  },
  {
   "cell_type": "code",
   "execution_count": null,
   "metadata": {},
   "outputs": [],
   "source": [
    "callback = [EarlyStopping(monitor='val_loss', patience=15, verbose=0),]\n",
    "model_folder_name = 'sample_model' #Change this every time to save your models in different folders.\n",
    "batch_training(train,cv,callback,sample_size = 1500, epochs=20,batch_size=32,folder_name=model_folder_name)"
   ]
  },
  {
   "cell_type": "markdown",
   "metadata": {},
   "source": [
    "### [4]Loading and Testing"
   ]
  },
  {
   "cell_type": "code",
   "execution_count": null,
   "metadata": {},
   "outputs": [],
   "source": [
    "from keras.models import load_model\n",
    "model_folder_name = 'sample_model'\n",
    "best_model = 4\n",
    "model = load_model(\"models/\"+model_folder_name+\"/\"+str(best_model)+\".h5\")\n",
    "model.load_weights(\"models/\"+model_folder_name+\"/\"+str(best_model)+\".w5\")"
   ]
  },
  {
   "cell_type": "code",
   "execution_count": null,
   "metadata": {
    "scrolled": true
   },
   "outputs": [],
   "source": [
    "#getting random image from dataset\n",
    "rows = test.shape[0]\n",
    "temp = test.iloc[random.randint(0,rows-1)] \n",
    "img = Image.open(os.path.join(train_img_dir,temp['image_name']))\n",
    "\n",
    "axs = plt.imshow(img)\n",
    "img.thumbnail(thumbnail_shape, Image.ANTIALIAS)\n",
    "img =  rgb2gray(np.array(img))\n",
    "img = img[:,:,np.newaxis]\n",
    "img = img-mean\n",
    "img = img/variance\n",
    "img = np.squeeze(img,axis=2)\n",
    "img = img[np.newaxis,:,:]\n",
    "pres_shape = img.shape\n",
    "dim1 = img.shape[0]\n",
    "dim2 = int(reduce(lambda x,y: x*y, img.shape) / dim1)\n",
    "img = img.reshape(dim1,dim2)\n",
    "img = img.dot(zca_mat)\n",
    "img =  (img - img.min()) / (img.max() - img.min())\n",
    "img = img.reshape(pres_shape)\n",
    "img = img[:,:,:,np.newaxis]\n",
    "pred = model.predict(img) \n",
    "\n",
    "\n",
    "##drawing bounding box\n",
    "x1,x2,y1,y2 = temp['x1'],temp['x2'],temp['y1'],temp['y2']\n",
    "rect = Rectangle((x1,y2),(x2-x1),(y1-y2),linewidth=1,edgecolor='g',facecolor='none')\n",
    "# Add the patch to the Axes\n",
    "axs.axes.add_patch(rect)\n",
    "true=dict()\n",
    "true['x1'],true['x2'],true['y1'],true['y2']=x1,x2,y1,y2\n",
    "\n",
    "\n",
    "x1,x2,y1,y2 = pred[0][0], pred[0][1],pred[0][2],pred[0][3]\n",
    "rect = Rectangle((x1,y2),(x2-x1),(y1-y2),linewidth=1,edgecolor='r',facecolor='none')\n",
    "# Add the patch to the Axes\n",
    "axs.axes.add_patch(rect)\n",
    "pred=dict()\n",
    "pred['x1'],pred['x2'],pred['y1'],pred['y2']=x1,x2,y1,y2 \n",
    "\n",
    "plt.axis('off')\n",
    "plt.show()\n",
    "\n",
    "print(\"IoU is\"+str(get_iou(true,pred)))"
   ]
  },
  {
   "cell_type": "code",
   "execution_count": null,
   "metadata": {},
   "outputs": [],
   "source": []
  },
  {
   "cell_type": "code",
   "execution_count": null,
   "metadata": {},
   "outputs": [],
   "source": [
    "\n",
    "# https://stackoverflow.com/questions/25349178/calculating-percentage-of-bounding-box-overlap-for-image-detector-evaluation\n",
    "def get_iou(bb1, bb2):\n",
    "    \"\"\"\n",
    "    Calculate the Intersection over Union (IoU) of two bounding boxes.\n",
    "\n",
    "    Parameters\n",
    "    ----------\n",
    "    bb1 : dict\n",
    "        Keys: {'x1', 'x2', 'y1', 'y2'}\n",
    "        The (x1, y1) position is at the top left corner,\n",
    "        the (x2, y2) position is at the bottom right corner\n",
    "    bb2 : dict\n",
    "        Keys: {'x1', 'x2', 'y1', 'y2'}\n",
    "        The (x, y) position is at the top left corner,\n",
    "        the (x2, y2) position is at the bottom right corner\n",
    "\n",
    "    Returns\n",
    "    -------\n",
    "    float\n",
    "        in [0, 1]\n",
    "    \"\"\"\n",
    "    assert bb1['x1'] < bb1['x2']\n",
    "    assert bb1['y1'] < bb1['y2']\n",
    "    assert bb2['x1'] < bb2['x2']\n",
    "    assert bb2['y1'] < bb2['y2']\n",
    "\n",
    "    # determine the coordinates of the intersection rectangle\n",
    "    x_left = max(bb1['x1'], bb2['x1'])\n",
    "    y_top = max(bb1['y1'], bb2['y1'])\n",
    "    x_right = min(bb1['x2'], bb2['x2'])\n",
    "    y_bottom = min(bb1['y2'], bb2['y2'])\n",
    "\n",
    "    if x_right < x_left or y_bottom < y_top:\n",
    "        return 0.0\n",
    "\n",
    "    # The intersection of two axis-aligned bounding boxes is always an\n",
    "    # axis-aligned bounding box\n",
    "    intersection_area = (x_right - x_left) * (y_bottom - y_top)\n",
    "\n",
    "    # compute the area of both AABBs\n",
    "    bb1_area = (bb1['x2'] - bb1['x1']) * (bb1['y2'] - bb1['y1'])\n",
    "    bb2_area = (bb2['x2'] - bb2['x1']) * (bb2['y2'] - bb2['y1'])\n",
    "\n",
    "    # compute the intersection over union by taking the intersection\n",
    "    # area and dividing it by the sum of prediction + ground-truth\n",
    "    # areas - the interesection area\n",
    "    iou = intersection_area / float(bb1_area + bb2_area - intersection_area)\n",
    "    assert iou >= 0.0\n",
    "    assert iou <= 1.0\n",
    "    return iou\n",
    "def iou_metric(y_true,y_pred):\n",
    "    true = dict()\n",
    "    pred = dict()\n",
    "    true['x1'] = y_true[0]\n",
    "    true['x2'] = y_true[1]\n",
    "    true['y1'] = y_true[2]\n",
    "    true['y2'] = y_true[3]\n",
    "    pred['x1'] = y_pred[0][0]\n",
    "    pred['x2'] = y_pred[0][1]\n",
    "    pred['y1'] = y_pred[0][2]\n",
    "    pred['y2'] = y_pred[0][3]\n",
    "    return get_iou(true,pred)"
   ]
  }
 ],
 "metadata": {
  "accelerator": "GPU",
  "colab": {
   "collapsed_sections": [],
   "name": "2. Bbox regressor.ipynb",
   "provenance": [],
   "toc_visible": true,
   "version": "0.3.2"
  },
  "kernelspec": {
   "display_name": "Python 3",
   "language": "python",
   "name": "python3"
  },
  "language_info": {
   "codemirror_mode": {
    "name": "ipython",
    "version": 3
   },
   "file_extension": ".py",
   "mimetype": "text/x-python",
   "name": "python",
   "nbconvert_exporter": "python",
   "pygments_lexer": "ipython3",
   "version": "3.6.5"
  }
 },
 "nbformat": 4,
 "nbformat_minor": 1
}
